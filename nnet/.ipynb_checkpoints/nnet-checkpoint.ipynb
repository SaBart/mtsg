{
 "cells": [
  {
   "cell_type": "code",
   "execution_count": 3,
   "metadata": {
    "collapsed": false
   },
   "outputs": [],
   "source": [
    "import os.path\n",
    "import sys\n",
    "import csv\n",
    "import numpy as np\n",
    "import sklearn as skl\n",
    "import matplotlib.pyplot as mp\n",
    "\n",
    "from keras.models import Sequential\n",
    "from keras.layers.core import Dense"
   ]
  },
  {
   "cell_type": "code",
   "execution_count": 4,
   "metadata": {
    "collapsed": true
   },
   "outputs": [],
   "source": [
    "# load target values\n",
    "\n",
    "load_csv=r'C:\\Users\\SABA\\Google Drive\\mtsg\\data\\homeB-all\\homeB-power\\2012-Apr-15.csv'"
   ]
  },
  {
   "cell_type": "code",
   "execution_count": null,
   "metadata": {
    "collapsed": true
   },
   "outputs": [],
   "source": []
  },
  {
   "cell_type": "code",
   "execution_count": null,
   "metadata": {
    "collapsed": true
   },
   "outputs": [],
   "source": [
    "seed=0\n",
    "np.random.seed(seed)\n",
    "\n",
    "# loading data\n",
    "print('Loading data')\n",
    "\n",
    "load_csv=r'C:\\Users\\SABA\\Google Drive\\mtsg\\code\\load_forecast\\data\\load.csv'\n",
    "\n",
    "\n",
    "with open(load_csv, 'r') as csvfile:\n",
    "    load_raw=np.array(list(csv.reader(csvfile))).astype('float')\n",
    "\n",
    "load_h=np.reshape(load_raw,(-1,60),order='C').sum(axis=1) # hourly aggregation\n",
    "load_dh=np.reshape(load_h,(365,-1),order='C')\n",
    "\n",
    "X=np.arange(0,np.size(load_dh, axis=0))\n",
    "\n",
    "\n",
    "#mp.plot(np.arange(1,25),load_dh[1])\n",
    "#mp.show()\n",
    "\n",
    "#create model\n",
    "print('creating model')\n",
    "\n",
    "model = Sequential()\n",
    "model.add(Dense(100, input_dim=1, init='uniform', activation='relu'))\n",
    "model.add(Dense(24, init='uniform', activation='sigmoid'))\n",
    "model.compile(optimizer='adam', loss='mean_squared_error', metrics=['mean_squared_error'])\n",
    "\n",
    "# training\n",
    "print('Training')\n",
    "\n",
    "model.fit(X, load_dh, batch_size=10, nb_epoch=10000, verbose=2, validation_split=0.3, shuffle=True)\n",
    "\n",
    "scores = model.evaluate(X, load_dh)\n",
    "print(\"%s: %.2f%%\" % (model.metrics_names[1], scores[1]))\n",
    "\n",
    "\n",
    "\n",
    "load_csv='load.csv'\n",
    "\n",
    "# read csv\n",
    "with open(load_csv, 'r') as csvfile:\n",
    "    load_raw=np.array(list(csv.reader(csvfile))).astype('float')\n",
    "#print(load_raw)\n",
    "load_h=np.reshape(load_raw,(-1,60),order='C').sum(axis=1) # hourly aggregation\n",
    "load_dh=np.reshape(load_h,(365,24),order='C')\n",
    "\n",
    "mp.plot(np.arange(1,25),load_dh[1])\n",
    "mp.show()"
   ]
  }
 ],
 "metadata": {
  "anaconda-cloud": {},
  "kernelspec": {
   "display_name": "Python [conda env:tensorflow]",
   "language": "python",
   "name": "conda-env-tensorflow-py"
  },
  "language_info": {
   "codemirror_mode": {
    "name": "ipython",
    "version": 3
   },
   "file_extension": ".py",
   "mimetype": "text/x-python",
   "name": "python",
   "nbconvert_exporter": "python",
   "pygments_lexer": "ipython3",
   "version": "3.5.2"
  }
 },
 "nbformat": 4,
 "nbformat_minor": 1
}
